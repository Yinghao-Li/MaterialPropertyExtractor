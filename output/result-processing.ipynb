{
 "cells": [
  {
   "cell_type": "code",
   "execution_count": 1,
   "metadata": {},
   "outputs": [],
   "source": [
    "import json\n",
    "import os\n",
    "import numpy as np\n",
    "import pandas as pd\n",
    "\n",
    "from sklearn.metrics import (\n",
    "    mean_squared_error,\n",
    "    mean_absolute_error,\n",
    "    r2_score,\n",
    ")\n"
   ]
  },
  {
   "cell_type": "code",
   "execution_count": 2,
   "metadata": {},
   "outputs": [],
   "source": [
    "true_w = list()\n",
    "pred_w = list()\n",
    "true_wo = list()\n",
    "pred_wo = list()\n",
    "for idx in range(5):\n",
    "\n",
    "    df = pd.read_csv(os.path.join('pred', f'{idx}', 'w_expr', 'preds.csv'))\n",
    "    true_w.append(df.true.to_numpy())\n",
    "    pred_w.append(df.pred.to_numpy())\n",
    "\n",
    "    df = pd.read_csv(os.path.join('pred', f'{idx}', 'wo_expr', 'preds.csv'))\n",
    "    true_wo.append(df.true.to_numpy())\n",
    "    pred_wo.append(df.pred.to_numpy())\n"
   ]
  },
  {
   "cell_type": "code",
   "execution_count": 3,
   "metadata": {},
   "outputs": [],
   "source": [
    "true_w = np.concatenate(true_w, axis=0)\n",
    "pred_w = np.concatenate(pred_w, axis=0)\n",
    "true_wo = np.concatenate(true_wo, axis=0)\n",
    "pred_wo = np.concatenate(pred_wo, axis=0)"
   ]
  },
  {
   "cell_type": "code",
   "execution_count": 4,
   "metadata": {},
   "outputs": [],
   "source": [
    "rmse_w = mean_squared_error(true_w, pred_w, squared=False)\n",
    "mae_w = mean_absolute_error(true_w, pred_w)\n",
    "r2_w = r2_score(true_w, pred_w)\n",
    "\n",
    "rmse_wo = mean_squared_error(true_wo, pred_wo, squared=False)\n",
    "mae_wo = mean_absolute_error(true_wo, pred_wo)\n",
    "r2_wo = r2_score(true_wo, pred_wo)\n"
   ]
  },
  {
   "cell_type": "code",
   "execution_count": 5,
   "metadata": {},
   "outputs": [
    {
     "name": "stdout",
     "output_type": "stream",
     "text": [
      "19.563834952994824 22.500424669267847\n"
     ]
    }
   ],
   "source": [
    "print(rmse_w, rmse_wo)"
   ]
  },
  {
   "cell_type": "code",
   "execution_count": 8,
   "metadata": {},
   "outputs": [
    {
     "data": {
      "text/plain": [
       "2.936589716273023"
      ]
     },
     "execution_count": 8,
     "metadata": {},
     "output_type": "execute_result"
    }
   ],
   "source": [
    "rmse_wo - rmse_w"
   ]
  },
  {
   "cell_type": "code",
   "execution_count": 6,
   "metadata": {},
   "outputs": [
    {
     "name": "stdout",
     "output_type": "stream",
     "text": [
      "13.3412749564 14.201549969\n"
     ]
    }
   ],
   "source": [
    "print(mae_w, mae_wo)"
   ]
  },
  {
   "cell_type": "code",
   "execution_count": 9,
   "metadata": {},
   "outputs": [
    {
     "data": {
      "text/plain": [
       "0.8602750126000007"
      ]
     },
     "execution_count": 9,
     "metadata": {},
     "output_type": "execute_result"
    }
   ],
   "source": [
    "mae_wo - mae_w"
   ]
  },
  {
   "cell_type": "code",
   "execution_count": 7,
   "metadata": {},
   "outputs": [
    {
     "name": "stdout",
     "output_type": "stream",
     "text": [
      "0.2621232513394455 0.023983241265203126\n"
     ]
    }
   ],
   "source": [
    "print(r2_w, r2_wo)"
   ]
  },
  {
   "cell_type": "code",
   "execution_count": 10,
   "metadata": {},
   "outputs": [
    {
     "data": {
      "text/plain": [
       "0.23814001007424235"
      ]
     },
     "execution_count": 10,
     "metadata": {},
     "output_type": "execute_result"
    }
   ],
   "source": [
    "r2_w - r2_wo"
   ]
  },
  {
   "cell_type": "code",
   "execution_count": null,
   "metadata": {},
   "outputs": [],
   "source": []
  }
 ],
 "metadata": {
  "kernelspec": {
   "display_name": "py39",
   "language": "python",
   "name": "python3"
  },
  "language_info": {
   "codemirror_mode": {
    "name": "ipython",
    "version": 3
   },
   "file_extension": ".py",
   "mimetype": "text/x-python",
   "name": "python",
   "nbconvert_exporter": "python",
   "pygments_lexer": "ipython3",
   "version": "3.9.7"
  },
  "orig_nbformat": 4
 },
 "nbformat": 4,
 "nbformat_minor": 2
}
