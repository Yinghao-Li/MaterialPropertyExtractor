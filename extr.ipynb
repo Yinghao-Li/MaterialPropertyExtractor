{
 "cells": [
  {
   "cell_type": "markdown",
   "metadata": {},
   "source": [
    "# Material Property Extractor Demo"
   ]
  },
  {
   "cell_type": "code",
   "execution_count": 1,
   "metadata": {},
   "outputs": [],
   "source": [
    "import os\n",
    "import sys\n",
    "import json\n",
    "import logging\n",
    "import pandas as pd\n",
    "from datetime import datetime\n",
    "from transformers import HfArgumentParser, set_seed\n",
    "from seqlbtoolkit.io import set_logging, logging_args, save_json\n",
    "\n",
    "from pipeline.args import Arguments\n",
    "from pipeline.crawler import crawl\n",
    "from pipeline.parser import parse\n",
    "from pipeline.heuristic_extractor import extract\n",
    "from pipeline.dataset_constructor import construct_dataset\n"
   ]
  },
  {
   "cell_type": "markdown",
   "metadata": {},
   "source": [
    "## Initialize and assign arguments\n",
    "\n",
    "The class `Arguments` is originally designed for accepting arguments from CLI.\n",
    "But it also works with jupyter environment."
   ]
  },
  {
   "cell_type": "code",
   "execution_count": 3,
   "metadata": {},
   "outputs": [],
   "source": [
    "args = Arguments()\n",
    "args.do_crawling = True\n",
    "args.doi_file_path = './resources/dois.json'\n",
    "args.raw_article_dir = './data/web_articles/'"
   ]
  },
  {
   "cell_type": "markdown",
   "metadata": {},
   "source": [
    "## Download articles"
   ]
  },
  {
   "cell_type": "code",
   "execution_count": 4,
   "metadata": {},
   "outputs": [
    {
     "data": {
      "application/vnd.jupyter.widget-view+json": {
       "model_id": "25162abe9bf64027aaf94e750e39c170",
       "version_major": 2,
       "version_minor": 0
      },
      "text/plain": [
       "  0%|          | 0/32 [00:00<?, ?it/s]"
      ]
     },
     "metadata": {},
     "output_type": "display_data"
    }
   ],
   "source": [
    "if args.do_crawling:\n",
    "    crawl(args)"
   ]
  },
  {
   "cell_type": "code",
   "execution_count": null,
   "metadata": {},
   "outputs": [],
   "source": []
  }
 ],
 "metadata": {
  "kernelspec": {
   "display_name": "Python 3.9.7 ('py39')",
   "language": "python",
   "name": "python3"
  },
  "language_info": {
   "codemirror_mode": {
    "name": "ipython",
    "version": 3
   },
   "file_extension": ".py",
   "mimetype": "text/x-python",
   "name": "python",
   "nbconvert_exporter": "python",
   "pygments_lexer": "ipython3",
   "version": "3.9.7"
  },
  "orig_nbformat": 4,
  "vscode": {
   "interpreter": {
    "hash": "5d00f8952959be9fb2f977b85902a6101fd652db9820ce2b143b005325f5b1ea"
   }
  }
 },
 "nbformat": 4,
 "nbformat_minor": 2
}
