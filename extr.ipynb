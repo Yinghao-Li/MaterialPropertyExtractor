{
 "cells": [
  {
   "cell_type": "markdown",
   "metadata": {},
   "source": [
    "# Material Property Extractor Demo"
   ]
  },
  {
   "cell_type": "code",
   "execution_count": 1,
   "metadata": {},
   "outputs": [],
   "source": [
    "import os\n",
    "import sys\n",
    "import json\n",
    "import logging\n",
    "import pandas as pd\n",
    "from datetime import datetime\n",
    "from transformers import HfArgumentParser, set_seed\n",
    "from seqlbtoolkit.io import set_logging, logging_args, save_json\n",
    "\n",
    "from pipeline.args import Arguments\n",
    "from pipeline.crawler import crawl\n",
    "from pipeline.parser import parse\n",
    "from pipeline.heuristic_extractor import extract\n",
    "from pipeline.dataset_constructor import construct_dataset\n"
   ]
  },
  {
   "cell_type": "markdown",
   "metadata": {},
   "source": [
    "## Initialize and assign arguments\n",
    "\n",
    "The class `Arguments` is originally designed for accepting arguments from CLI.\n",
    "But it also works with jupyter environment."
   ]
  },
  {
   "cell_type": "code",
   "execution_count": 2,
   "metadata": {},
   "outputs": [],
   "source": [
    "args = Arguments()"
   ]
  },
  {
   "cell_type": "markdown",
   "metadata": {},
   "source": [
    "## Download articles"
   ]
  },
  {
   "cell_type": "code",
   "execution_count": 3,
   "metadata": {},
   "outputs": [
    {
     "data": {
      "application/vnd.jupyter.widget-view+json": {
       "model_id": "28bdff8a019c422cabd2fecad00115cb",
       "version_major": 2,
       "version_minor": 0
      },
      "text/plain": [
       "  0%|          | 0/32 [00:00<?, ?it/s]"
      ]
     },
     "metadata": {},
     "output_type": "display_data"
    },
    {
     "name": "stderr",
     "output_type": "stream",
     "text": [
      "[WDM] - Downloading: 100%|██████████| 7.26M/7.26M [00:00<00:00, 28.2MB/s]\n"
     ]
    }
   ],
   "source": [
    "args.do_crawling = True\n",
    "args.doi_file_path = './resources/dois.json'\n",
    "args.raw_article_dir = './data/web_articles/'\n",
    "\n",
    "if args.do_crawling:\n",
    "    crawl(args)"
   ]
  },
  {
   "cell_type": "markdown",
   "metadata": {},
   "source": [
    "## Parse articles"
   ]
  },
  {
   "cell_type": "code",
   "execution_count": 4,
   "metadata": {},
   "outputs": [
    {
     "name": "stderr",
     "output_type": "stream",
     "text": [
      "./data/web_articles/10.1016&sl;j.jelechem.2019.02.027.html does not have HTML sections!\n",
      "./data/web_articles/10.1039&sl;C2EE03025J.html does not have abstract!\n",
      "./data/web_articles/10.1039&sl;C3TA10368D.html does not have abstract!\n",
      "./data/web_articles/10.1039&sl;C3TA10612H.html does not have abstract!\n",
      "Encounter exception list index out of range while parsing file ./data/web_articles/10.1039&sl;C4TA00494A.html.\n",
      "Traceback (most recent call last):\n",
      "  File \"/mnt/284ac980-b350-4035-8e02-707f671ad89e/yli/MaterialPropertyExtractor/pipeline/parser.py\", line 30, in parse\n",
      "    article, component_check = parse_html(file_path)\n",
      "  File \"/localscratch/yli/miniconda/envs/py39/lib/python3.9/site-packages/chempp/article_constr.py\", line 726, in parse_html\n",
      "    doi, publisher = search_html_doi_publisher(soup)\n",
      "  File \"/localscratch/yli/miniconda/envs/py39/lib/python3.9/site-packages/chempp/article_constr.py\", line 659, in search_html_doi_publisher\n",
      "    doi_url = doi_sec[0].a.text.strip().lower()\n",
      "IndexError: list index out of range\n",
      "./data/web_articles/10.1039&sl;C8TA04477E.html does not have abstract!\n",
      "Encounter exception Publisher not found! while parsing file ./data/web_articles/10.2478&sl;s11696-014-0611-1.html.\n",
      "Traceback (most recent call last):\n",
      "  File \"/mnt/284ac980-b350-4035-8e02-707f671ad89e/yli/MaterialPropertyExtractor/pipeline/parser.py\", line 30, in parse\n",
      "    article, component_check = parse_html(file_path)\n",
      "  File \"/localscratch/yli/miniconda/envs/py39/lib/python3.9/site-packages/chempp/article_constr.py\", line 726, in parse_html\n",
      "    doi, publisher = search_html_doi_publisher(soup)\n",
      "  File \"/localscratch/yli/miniconda/envs/py39/lib/python3.9/site-packages/chempp/article_constr.py\", line 640, in search_html_doi_publisher\n",
      "    publisher = check_html_publisher(soup)\n",
      "  File \"/localscratch/yli/miniconda/envs/py39/lib/python3.9/site-packages/chempp/article_constr.py\", line 613, in check_html_publisher\n",
      "    raise ValueError('Publisher not found!')\n",
      "ValueError: Publisher not found!\n"
     ]
    }
   ],
   "source": [
    "args.do_parsing = True\n",
    "args.raw_article_dir = './data/web_articles/'\n",
    "args.processed_article_dir = './data/web_articles_parsed/'\n",
    "\n",
    "if args.do_parsing:\n",
    "    parse(args)"
   ]
  },
  {
   "cell_type": "markdown",
   "metadata": {},
   "source": [
    "## Information Extraction"
   ]
  },
  {
   "cell_type": "code",
   "execution_count": 8,
   "metadata": {},
   "outputs": [],
   "source": [
    "args.do_extraction = True\n",
    "args.keyword_path = [r\"./resources/tensile.json\"]\n",
    "args.save_html = True\n",
    "args.save_jsonl = True"
   ]
  },
  {
   "cell_type": "code",
   "execution_count": 9,
   "metadata": {},
   "outputs": [],
   "source": [
    "if args.do_extraction:\n",
    "    extract(args)\n"
   ]
  }
 ],
 "metadata": {
  "kernelspec": {
   "display_name": "Python 3.9.7 ('py39')",
   "language": "python",
   "name": "python3"
  },
  "language_info": {
   "codemirror_mode": {
    "name": "ipython",
    "version": 3
   },
   "file_extension": ".py",
   "mimetype": "text/x-python",
   "name": "python",
   "nbconvert_exporter": "python",
   "pygments_lexer": "ipython3",
   "version": "3.9.7"
  },
  "orig_nbformat": 4,
  "vscode": {
   "interpreter": {
    "hash": "5d00f8952959be9fb2f977b85902a6101fd652db9820ce2b143b005325f5b1ea"
   }
  }
 },
 "nbformat": 4,
 "nbformat_minor": 2
}
