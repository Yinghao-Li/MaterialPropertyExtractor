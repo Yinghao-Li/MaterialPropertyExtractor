{
 "cells": [
  {
   "cell_type": "markdown",
   "metadata": {},
   "source": [
    "# Material Property Extractor Demo"
   ]
  },
  {
   "cell_type": "code",
   "execution_count": 1,
   "metadata": {},
   "outputs": [],
   "source": [
    "import os\n",
    "import sys\n",
    "import json\n",
    "import logging\n",
    "import pandas as pd\n",
    "from datetime import datetime\n",
    "from transformers import HfArgumentParser, set_seed\n",
    "from seqlbtoolkit.io import set_logging, logging_args, save_json\n",
    "\n",
    "from pipeline.args import Arguments\n",
    "from pipeline.crawler import crawl\n",
    "from pipeline.parser import parse\n",
    "from pipeline.heuristic_extractor import extract\n",
    "from pipeline.dataset_constructor import construct_dataset\n",
    "\n",
    "logger = logging.getLogger(__name__)\n",
    "set_logging(None)\n",
    "logger.setLevel(logging.INFO)\n",
    "\n"
   ]
  },
  {
   "cell_type": "markdown",
   "metadata": {},
   "source": [
    "## Initialize and assign arguments\n",
    "\n",
    "The class `Arguments` is originally designed for accepting arguments from CLI.\n",
    "But it also works with jupyter environment."
   ]
  },
  {
   "cell_type": "code",
   "execution_count": 3,
   "metadata": {},
   "outputs": [],
   "source": [
    "args = Arguments()"
   ]
  },
  {
   "cell_type": "markdown",
   "metadata": {},
   "source": [
    "## Download articles"
   ]
  },
  {
   "cell_type": "code",
   "execution_count": 3,
   "metadata": {},
   "outputs": [
    {
     "data": {
      "application/vnd.jupyter.widget-view+json": {
       "model_id": "28bdff8a019c422cabd2fecad00115cb",
       "version_major": 2,
       "version_minor": 0
      },
      "text/plain": [
       "  0%|          | 0/32 [00:00<?, ?it/s]"
      ]
     },
     "metadata": {},
     "output_type": "display_data"
    },
    {
     "name": "stderr",
     "output_type": "stream",
     "text": [
      "[WDM] - Downloading: 100%|██████████| 7.26M/7.26M [00:00<00:00, 28.2MB/s]\n"
     ]
    }
   ],
   "source": [
    "args.do_crawling = True\n",
    "args.doi_file_path = './resources/dois.json'\n",
    "args.raw_article_dir = './data/web_articles/'\n",
    "\n",
    "if args.do_crawling:\n",
    "    crawl(args)"
   ]
  },
  {
   "cell_type": "markdown",
   "metadata": {},
   "source": [
    "## Parse articles"
   ]
  },
  {
   "cell_type": "code",
   "execution_count": 4,
   "metadata": {},
   "outputs": [
    {
     "name": "stdout",
     "output_type": "stream",
     "text": [
      "11/15/2022 13:59:11 - INFO - pipeline.parser -   Parsing file 10.1002&sl;adfm.201301345.html\n",
      "11/15/2022 13:59:12 - INFO - pipeline.parser -   Saving results...\n",
      "11/15/2022 13:59:12 - INFO - pipeline.parser -   Parsing file 10.1002&sl;macp.201100248.html\n",
      "11/15/2022 13:59:12 - INFO - pipeline.parser -   Saving results...\n",
      "11/15/2022 13:59:12 - INFO - pipeline.parser -   Parsing file 10.1007&sl;s10008-009-0968-1.html\n",
      "11/15/2022 13:59:12 - INFO - pipeline.parser -   Saving results...\n",
      "11/15/2022 13:59:12 - INFO - pipeline.parser -   Parsing file 10.1007&sl;s11581-018-2788-8.html\n",
      "11/15/2022 13:59:13 - INFO - pipeline.parser -   Saving results...\n",
      "11/15/2022 13:59:13 - INFO - pipeline.parser -   Parsing file 10.1016&sl;j.compositesb.2017.03.060.html\n",
      "11/15/2022 13:59:14 - INFO - pipeline.parser -   Saving results...\n",
      "11/15/2022 13:59:14 - INFO - pipeline.parser -   Parsing file 10.1016&sl;j.electacta.2009.05.055.html\n",
      "11/15/2022 13:59:14 - INFO - pipeline.parser -   Saving results...\n",
      "11/15/2022 13:59:14 - INFO - pipeline.parser -   Parsing file 10.1016&sl;j.electacta.2011.03.101.html\n",
      "11/15/2022 13:59:15 - INFO - pipeline.parser -   Saving results...\n",
      "11/15/2022 13:59:15 - INFO - pipeline.parser -   Parsing file 10.1016&sl;j.electacta.2013.04.098.html\n",
      "11/15/2022 13:59:16 - INFO - pipeline.parser -   Saving results...\n",
      "11/15/2022 13:59:16 - INFO - pipeline.parser -   Parsing file 10.1016&sl;j.electacta.2014.11.141.html\n",
      "11/15/2022 13:59:16 - INFO - pipeline.parser -   Saving results...\n",
      "11/15/2022 13:59:16 - INFO - pipeline.parser -   Parsing file 10.1016&sl;j.electacta.2014.11.176.html\n",
      "11/15/2022 13:59:17 - INFO - pipeline.parser -   Saving results...\n",
      "11/15/2022 13:59:17 - INFO - pipeline.parser -   Parsing file 10.1016&sl;j.electacta.2016.10.122.html\n",
      "11/15/2022 13:59:17 - INFO - pipeline.parser -   Saving results...\n",
      "11/15/2022 13:59:17 - INFO - pipeline.parser -   Parsing file 10.1016&sl;j.electacta.2019.02.058.html\n",
      "11/15/2022 13:59:18 - INFO - pipeline.parser -   Saving results...\n",
      "11/15/2022 13:59:18 - INFO - pipeline.parser -   Parsing file 10.1016&sl;j.ensm.2019.02.004.html\n",
      "11/15/2022 13:59:19 - INFO - pipeline.parser -   Saving results...\n",
      "11/15/2022 13:59:19 - INFO - pipeline.parser -   Parsing file 10.1016&sl;j.jelechem.2019.02.027.html\n",
      "11/15/2022 13:59:19 - WARNING - pipeline.parser -   ./data/web_articles/10.1016&sl;j.jelechem.2019.02.027.html does not have HTML sections!\n",
      "11/15/2022 13:59:19 - INFO - pipeline.parser -   Saving results...\n",
      "11/15/2022 13:59:19 - INFO - pipeline.parser -   Parsing file 10.1016&sl;j.jiec.2018.04.006.html\n",
      "11/15/2022 13:59:20 - INFO - pipeline.parser -   Saving results...\n",
      "11/15/2022 13:59:20 - INFO - pipeline.parser -   Parsing file 10.1016&sl;j.jmat.2018.12.006.html\n",
      "11/15/2022 13:59:20 - INFO - pipeline.parser -   Saving results...\n",
      "11/15/2022 13:59:20 - INFO - pipeline.parser -   Parsing file 10.1016&sl;j.jmat.2019.04.002.html\n",
      "11/15/2022 13:59:21 - INFO - pipeline.parser -   Saving results...\n",
      "11/15/2022 13:59:21 - INFO - pipeline.parser -   Parsing file 10.1016&sl;j.jpowsour.2009.09.047.html\n",
      "11/15/2022 13:59:22 - INFO - pipeline.parser -   Saving results...\n",
      "11/15/2022 13:59:22 - INFO - pipeline.parser -   Parsing file 10.1016&sl;j.jpowsour.2011.07.015.html\n",
      "11/15/2022 13:59:23 - INFO - pipeline.parser -   Saving results...\n",
      "11/15/2022 13:59:23 - INFO - pipeline.parser -   Parsing file 10.1016&sl;j.jpowsour.2017.05.097.html\n",
      "11/15/2022 13:59:23 - INFO - pipeline.parser -   Saving results...\n",
      "11/15/2022 13:59:23 - INFO - pipeline.parser -   Parsing file 10.1016&sl;j.polymer.2016.07.058.html\n",
      "11/15/2022 13:59:24 - INFO - pipeline.parser -   Saving results...\n",
      "11/15/2022 13:59:24 - INFO - pipeline.parser -   Parsing file 10.1016&sl;j.reactfunctpolym.2010.12.007.html\n",
      "11/15/2022 13:59:25 - INFO - pipeline.parser -   Saving results...\n",
      "11/15/2022 13:59:25 - INFO - pipeline.parser -   Parsing file 10.1016&sl;j.ssi.2013.10.050.html\n",
      "11/15/2022 13:59:26 - INFO - pipeline.parser -   Saving results...\n",
      "11/15/2022 13:59:26 - INFO - pipeline.parser -   Parsing file 10.1016&sl;j.ssi.2016.02.007.html\n",
      "11/15/2022 13:59:26 - INFO - pipeline.parser -   Saving results...\n",
      "11/15/2022 13:59:26 - INFO - pipeline.parser -   Parsing file 10.1021&sl;acsaem.8b02185.html\n",
      "11/15/2022 13:59:27 - INFO - pipeline.parser -   Saving results...\n",
      "11/15/2022 13:59:27 - INFO - pipeline.parser -   Parsing file 10.1021&sl;acsami.6b16218.html\n",
      "11/15/2022 13:59:27 - INFO - pipeline.parser -   Saving results...\n",
      "11/15/2022 13:59:27 - INFO - pipeline.parser -   Parsing file 10.1039&sl;C2EE03025J.html\n",
      "11/15/2022 13:59:28 - WARNING - pipeline.parser -   ./data/web_articles/10.1039&sl;C2EE03025J.html does not have abstract!\n",
      "11/15/2022 13:59:28 - INFO - pipeline.parser -   Saving results...\n",
      "11/15/2022 13:59:28 - INFO - pipeline.parser -   Parsing file 10.1039&sl;C3TA10368D.html\n",
      "11/15/2022 13:59:29 - WARNING - pipeline.parser -   ./data/web_articles/10.1039&sl;C3TA10368D.html does not have abstract!\n",
      "11/15/2022 13:59:29 - INFO - pipeline.parser -   Saving results...\n",
      "11/15/2022 13:59:29 - INFO - pipeline.parser -   Parsing file 10.1039&sl;C3TA10612H.html\n",
      "11/15/2022 13:59:29 - WARNING - pipeline.parser -   ./data/web_articles/10.1039&sl;C3TA10612H.html does not have abstract!\n",
      "11/15/2022 13:59:29 - INFO - pipeline.parser -   Saving results...\n",
      "11/15/2022 13:59:29 - INFO - pipeline.parser -   Parsing file 10.1039&sl;C4TA00494A.html\n",
      "11/15/2022 13:59:29 - ERROR - pipeline.parser -   Encounter exception list index out of range while parsing file ./data/web_articles/10.1039&sl;C4TA00494A.html.\n",
      "Traceback (most recent call last):\n",
      "  File \"/mnt/284ac980-b350-4035-8e02-707f671ad89e/yli/MaterialPropertyExtractor/pipeline/parser.py\", line 30, in parse\n",
      "    article, component_check = parse_html(file_path)\n",
      "  File \"/localscratch/yli/miniconda/envs/py39/lib/python3.9/site-packages/chempp/article_constr.py\", line 726, in parse_html\n",
      "    doi, publisher = search_html_doi_publisher(soup)\n",
      "  File \"/localscratch/yli/miniconda/envs/py39/lib/python3.9/site-packages/chempp/article_constr.py\", line 659, in search_html_doi_publisher\n",
      "    doi_url = doi_sec[0].a.text.strip().lower()\n",
      "IndexError: list index out of range\n",
      "11/15/2022 13:59:29 - INFO - pipeline.parser -   Parsing file 10.1039&sl;C8TA04477E.html\n",
      "11/15/2022 13:59:30 - WARNING - pipeline.parser -   ./data/web_articles/10.1039&sl;C8TA04477E.html does not have abstract!\n",
      "11/15/2022 13:59:30 - INFO - pipeline.parser -   Saving results...\n",
      "11/15/2022 13:59:30 - INFO - pipeline.parser -   Parsing file 10.2478&sl;s11696-014-0611-1.html\n",
      "11/15/2022 13:59:30 - ERROR - pipeline.parser -   Encounter exception Publisher not found! while parsing file ./data/web_articles/10.2478&sl;s11696-014-0611-1.html.\n",
      "Traceback (most recent call last):\n",
      "  File \"/mnt/284ac980-b350-4035-8e02-707f671ad89e/yli/MaterialPropertyExtractor/pipeline/parser.py\", line 30, in parse\n",
      "    article, component_check = parse_html(file_path)\n",
      "  File \"/localscratch/yli/miniconda/envs/py39/lib/python3.9/site-packages/chempp/article_constr.py\", line 726, in parse_html\n",
      "    doi, publisher = search_html_doi_publisher(soup)\n",
      "  File \"/localscratch/yli/miniconda/envs/py39/lib/python3.9/site-packages/chempp/article_constr.py\", line 640, in search_html_doi_publisher\n",
      "    publisher = check_html_publisher(soup)\n",
      "  File \"/localscratch/yli/miniconda/envs/py39/lib/python3.9/site-packages/chempp/article_constr.py\", line 613, in check_html_publisher\n",
      "    raise ValueError('Publisher not found!')\n",
      "ValueError: Publisher not found!\n"
     ]
    }
   ],
   "source": [
    "args.do_parsing = True\n",
    "args.raw_article_dir = './data/web_articles/'\n",
    "args.processed_article_dir = './data/web_articles_parsed/'\n",
    "\n",
    "if args.do_parsing:\n",
    "    parse(args)"
   ]
  },
  {
   "cell_type": "markdown",
   "metadata": {},
   "source": [
    "## Information Extraction"
   ]
  },
  {
   "cell_type": "code",
   "execution_count": 5,
   "metadata": {},
   "outputs": [],
   "source": [
    "args.do_extraction = True\n",
    "args.keyword_path = [r\"./resources/tensile.json\"]\n",
    "args.save_html = True\n",
    "args.save_jsonl = True"
   ]
  },
  {
   "cell_type": "code",
   "execution_count": 6,
   "metadata": {},
   "outputs": [
    {
     "name": "stdout",
     "output_type": "stream",
     "text": [
      "11/15/2022 14:00:13 - INFO - xfms.tk_cx.src.args -   Setting <class 'xfms.tk_cx.src.args.BertNERConfig'> parameters from ./models/pet-mm-model/bert_config.json.\n",
      "11/15/2022 14:00:13 - INFO - xfms.tk_cx.src.train -   Loading model from ./models/pet-mm-model\n",
      "11/15/2022 14:00:15 - INFO - pipeline.heuristic_extractor -   Processing file 10.1002&sl;adfm.201301345.pt\n",
      "11/15/2022 14:00:15 - INFO - pipeline.heuristic_extractor -   Processing file 10.1002&sl;macp.201100248.pt\n",
      "11/15/2022 14:00:15 - INFO - pipeline.heuristic_extractor -   Processing file 10.1007&sl;s10008-009-0968-1.pt\n",
      "11/15/2022 14:00:15 - INFO - pipeline.heuristic_extractor -   Processing file 10.1007&sl;s11581-018-2788-8.pt\n",
      "11/15/2022 14:00:16 - INFO - pipeline.heuristic_extractor -   Processing file 10.1016&sl;j.compositesb.2017.03.060.pt\n",
      "11/15/2022 14:00:26 - INFO - pipeline.heuristic_extractor -   Saving HTML results...\n",
      "11/15/2022 14:00:26 - INFO - pipeline.heuristic_extractor -   Saving JSONL results...\n",
      "11/15/2022 14:00:26 - INFO - pipeline.heuristic_extractor -   Processing file 10.1016&sl;j.electacta.2009.05.055.pt\n",
      "11/15/2022 14:00:27 - INFO - pipeline.heuristic_extractor -   Processing file 10.1016&sl;j.electacta.2011.03.101.pt\n",
      "11/15/2022 14:00:30 - INFO - pipeline.heuristic_extractor -   Saving HTML results...\n",
      "11/15/2022 14:00:30 - INFO - pipeline.heuristic_extractor -   Saving JSONL results...\n",
      "11/15/2022 14:00:30 - INFO - pipeline.heuristic_extractor -   Processing file 10.1016&sl;j.electacta.2013.04.098.pt\n",
      "11/15/2022 14:00:30 - INFO - pipeline.heuristic_extractor -   Processing file 10.1016&sl;j.electacta.2014.11.141.pt\n",
      "11/15/2022 14:00:31 - INFO - pipeline.heuristic_extractor -   Processing file 10.1016&sl;j.electacta.2014.11.176.pt\n",
      "11/15/2022 14:00:35 - INFO - pipeline.heuristic_extractor -   Saving HTML results...\n",
      "11/15/2022 14:00:35 - INFO - pipeline.heuristic_extractor -   Saving JSONL results...\n",
      "11/15/2022 14:00:35 - INFO - pipeline.heuristic_extractor -   Processing file 10.1016&sl;j.electacta.2016.10.122.pt\n",
      "11/15/2022 14:00:35 - INFO - pipeline.heuristic_extractor -   Processing file 10.1016&sl;j.electacta.2019.02.058.pt\n",
      "11/15/2022 14:00:35 - INFO - pipeline.heuristic_extractor -   Processing file 10.1016&sl;j.ensm.2019.02.004.pt\n",
      "11/15/2022 14:00:36 - INFO - pipeline.heuristic_extractor -   Processing file 10.1016&sl;j.jelechem.2019.02.027.pt\n",
      "11/15/2022 14:00:36 - INFO - pipeline.heuristic_extractor -   Processing file 10.1016&sl;j.jiec.2018.04.006.pt\n",
      "11/15/2022 14:00:36 - INFO - pipeline.heuristic_extractor -   Processing file 10.1016&sl;j.jmat.2018.12.006.pt\n",
      "11/15/2022 14:00:42 - INFO - pipeline.heuristic_extractor -   Saving HTML results...\n",
      "11/15/2022 14:00:42 - INFO - pipeline.heuristic_extractor -   Saving JSONL results...\n",
      "11/15/2022 14:00:42 - INFO - pipeline.heuristic_extractor -   Processing file 10.1016&sl;j.jmat.2019.04.002.pt\n",
      "11/15/2022 14:00:42 - INFO - pipeline.heuristic_extractor -   Processing file 10.1016&sl;j.jpowsour.2009.09.047.pt\n",
      "11/15/2022 14:00:42 - INFO - pipeline.heuristic_extractor -   Processing file 10.1016&sl;j.jpowsour.2011.07.015.pt\n",
      "11/15/2022 14:00:47 - INFO - pipeline.heuristic_extractor -   Processing file 10.1016&sl;j.jpowsour.2017.05.097.pt\n",
      "11/15/2022 14:00:53 - INFO - pipeline.heuristic_extractor -   Saving HTML results...\n",
      "11/15/2022 14:00:53 - INFO - pipeline.heuristic_extractor -   Saving JSONL results...\n",
      "11/15/2022 14:00:53 - INFO - pipeline.heuristic_extractor -   Processing file 10.1016&sl;j.polymer.2016.07.058.pt\n",
      "11/15/2022 14:00:54 - INFO - pipeline.heuristic_extractor -   Processing file 10.1016&sl;j.reactfunctpolym.2010.12.007.pt\n",
      "11/15/2022 14:00:54 - INFO - pipeline.heuristic_extractor -   Processing file 10.1016&sl;j.ssi.2013.10.050.pt\n",
      "11/15/2022 14:00:59 - INFO - pipeline.heuristic_extractor -   Saving HTML results...\n",
      "11/15/2022 14:00:59 - INFO - pipeline.heuristic_extractor -   Saving JSONL results...\n",
      "11/15/2022 14:00:59 - INFO - pipeline.heuristic_extractor -   Processing file 10.1016&sl;j.ssi.2016.02.007.pt\n",
      "11/15/2022 14:00:59 - INFO - pipeline.heuristic_extractor -   Processing file 10.1021&sl;acsaem.8b02185.pt\n",
      "11/15/2022 14:01:04 - INFO - pipeline.heuristic_extractor -   Processing file 10.1021&sl;acsami.6b16218.pt\n",
      "11/15/2022 14:01:04 - INFO - pipeline.heuristic_extractor -   Processing file 10.1039&sl;c2ee03025j.pt\n",
      "11/15/2022 14:01:04 - INFO - pipeline.heuristic_extractor -   Processing file 10.1039&sl;c3ta10368d.pt\n",
      "11/15/2022 14:01:05 - INFO - pipeline.heuristic_extractor -   Processing file 10.1039&sl;c3ta10612h.pt\n",
      "11/15/2022 14:01:05 - INFO - pipeline.heuristic_extractor -   Processing file 10.1039&sl;c8ta04477e.pt\n",
      "11/15/2022 14:01:05 - INFO - pipeline.heuristic_extractor -   Grouping extraction results\n"
     ]
    }
   ],
   "source": [
    "if args.do_extraction:\n",
    "    extract(args)\n"
   ]
  }
 ],
 "metadata": {
  "kernelspec": {
   "display_name": "Python 3.9.7 ('py39')",
   "language": "python",
   "name": "python3"
  },
  "language_info": {
   "codemirror_mode": {
    "name": "ipython",
    "version": 3
   },
   "file_extension": ".py",
   "mimetype": "text/x-python",
   "name": "python",
   "nbconvert_exporter": "python",
   "pygments_lexer": "ipython3",
   "version": "3.9.7"
  },
  "orig_nbformat": 4,
  "vscode": {
   "interpreter": {
    "hash": "5d00f8952959be9fb2f977b85902a6101fd652db9820ce2b143b005325f5b1ea"
   }
  }
 },
 "nbformat": 4,
 "nbformat_minor": 2
}
